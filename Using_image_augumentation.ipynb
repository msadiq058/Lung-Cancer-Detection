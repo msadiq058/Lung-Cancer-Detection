{
  "nbformat": 4,
  "nbformat_minor": 0,
  "metadata": {
    "colab": {
      "name": "lung_cancer_image_augumentation.ipynb",
      "provenance": [],
      "collapsed_sections": [],
      "mount_file_id": "1k5rJ0gVzUl6epoIqHZddTank1MVwjKHg",
      "authorship_tag": "ABX9TyOSwaEO9lNcXW3yEejQhSqU",
      "include_colab_link": true
    },
    "kernelspec": {
      "name": "python3",
      "display_name": "Python 3"
    },
    "accelerator": "GPU"
  },
  "cells": [
    {
      "cell_type": "markdown",
      "metadata": {
        "id": "view-in-github",
        "colab_type": "text"
      },
      "source": [
        "<a href=\"https://colab.research.google.com/github/msadiq058/Lung-Cancer-Detection/blob/master/Using_image_augumentation.ipynb\" target=\"_parent\"><img src=\"https://colab.research.google.com/assets/colab-badge.svg\" alt=\"Open In Colab\"/></a>"
      ]
    },
    {
      "cell_type": "markdown",
      "metadata": {
        "id": "IL0vk2PtKv4k",
        "colab_type": "text"
      },
      "source": [
        "**Importing necessary libraries**"
      ]
    },
    {
      "cell_type": "code",
      "metadata": {
        "id": "Ie1UPnS8uVAy",
        "colab_type": "code",
        "colab": {}
      },
      "source": [
        "import os\n",
        "from shutil import copyfile\n",
        "from tensorflow.keras.layers import Dense,Dropout,Flatten,Conv2D,MaxPooling2D\n",
        "from tensorflow.keras.models import Sequential\n",
        "from tensorflow.keras.preprocessing.image import ImageDataGenerator\n",
        "import shutil"
      ],
      "execution_count": 1,
      "outputs": []
    },
    {
      "cell_type": "markdown",
      "metadata": {
        "id": "W5uO_G1nK2JR",
        "colab_type": "text"
      },
      "source": [
        "**Downloading the dataset**"
      ]
    },
    {
      "cell_type": "code",
      "metadata": {
        "id": "8xRAobDcuyci",
        "colab_type": "code",
        "colab": {
          "base_uri": "https://localhost:8080/",
          "height": 445
        },
        "outputId": "75659656-ae66-4dd8-b370-1a2f9b761f3c"
      },
      "source": [
        "!wget  https://www.dropbox.com/s/luhnutk30qyg3zd/LC25000.zip?dl=0"
      ],
      "execution_count": 2,
      "outputs": [
        {
          "output_type": "stream",
          "text": [
            "--2020-09-03 05:29:59--  https://www.dropbox.com/s/luhnutk30qyg3zd/LC25000.zip?dl=0\n",
            "Resolving www.dropbox.com (www.dropbox.com)... 162.125.3.1, 2620:100:6018:1::a27d:301\n",
            "Connecting to www.dropbox.com (www.dropbox.com)|162.125.3.1|:443... connected.\n",
            "HTTP request sent, awaiting response... 301 Moved Permanently\n",
            "Location: /s/raw/luhnutk30qyg3zd/LC25000.zip [following]\n",
            "--2020-09-03 05:30:00--  https://www.dropbox.com/s/raw/luhnutk30qyg3zd/LC25000.zip\n",
            "Reusing existing connection to www.dropbox.com:443.\n",
            "HTTP request sent, awaiting response... 302 Found\n",
            "Location: https://uc3d3f0d7cc536d68b9ef96cac60.dl.dropboxusercontent.com/cd/0/inline/A-qfX0fsbw05xsP6DyQ6l3U5WMGRNV1URTLZ5CmFk4q2jDeWx6VSHLgYBACC1u69KMiKB15bWrjETPHbc88D6zXwlvGVJA020cjteK3aYwM-uE0XQl1CwjSyZ47xEz-S_s0/file# [following]\n",
            "--2020-09-03 05:30:00--  https://uc3d3f0d7cc536d68b9ef96cac60.dl.dropboxusercontent.com/cd/0/inline/A-qfX0fsbw05xsP6DyQ6l3U5WMGRNV1URTLZ5CmFk4q2jDeWx6VSHLgYBACC1u69KMiKB15bWrjETPHbc88D6zXwlvGVJA020cjteK3aYwM-uE0XQl1CwjSyZ47xEz-S_s0/file\n",
            "Resolving uc3d3f0d7cc536d68b9ef96cac60.dl.dropboxusercontent.com (uc3d3f0d7cc536d68b9ef96cac60.dl.dropboxusercontent.com)... 162.125.3.15, 2620:100:6018:15::a27d:30f\n",
            "Connecting to uc3d3f0d7cc536d68b9ef96cac60.dl.dropboxusercontent.com (uc3d3f0d7cc536d68b9ef96cac60.dl.dropboxusercontent.com)|162.125.3.15|:443... connected.\n",
            "HTTP request sent, awaiting response... 302 Found\n",
            "Location: /cd/0/inline2/A-qnkj4s2blNIkrw5GTGYtmPG3v31zG0s8iOg6fHgPL2oj3kinkgjBoTOngu2YVLc6o0Am0yuZCEgmGj9hUwZJxwNGBTcRipPMc5Pl--v1tjVVVpwpLA58_JXOPQrJXZdSjsOrs1G3Ln0OAtLs8gt7K1h3J06XGO4kOq9q3B3Y5tkt-7rTFasFiqzwNcrPST_JrAssT9Z69n8N-Jke-bBVFS9p1pVT2v66VBWNbBmnBPXuB1U5GoMLKBwDUWSRipnCSVWFyoVK4bt-DI9vFCAdPR6GcBDkueLHA7x19ehmCzeFsxzTNNU8ZL34K9oFtM7GEWGEP4jGdC5FuesdcUAUPqsdUQYMNFGqEGR_bP5foI9w/file [following]\n",
            "--2020-09-03 05:30:01--  https://uc3d3f0d7cc536d68b9ef96cac60.dl.dropboxusercontent.com/cd/0/inline2/A-qnkj4s2blNIkrw5GTGYtmPG3v31zG0s8iOg6fHgPL2oj3kinkgjBoTOngu2YVLc6o0Am0yuZCEgmGj9hUwZJxwNGBTcRipPMc5Pl--v1tjVVVpwpLA58_JXOPQrJXZdSjsOrs1G3Ln0OAtLs8gt7K1h3J06XGO4kOq9q3B3Y5tkt-7rTFasFiqzwNcrPST_JrAssT9Z69n8N-Jke-bBVFS9p1pVT2v66VBWNbBmnBPXuB1U5GoMLKBwDUWSRipnCSVWFyoVK4bt-DI9vFCAdPR6GcBDkueLHA7x19ehmCzeFsxzTNNU8ZL34K9oFtM7GEWGEP4jGdC5FuesdcUAUPqsdUQYMNFGqEGR_bP5foI9w/file\n",
            "Reusing existing connection to uc3d3f0d7cc536d68b9ef96cac60.dl.dropboxusercontent.com:443.\n",
            "HTTP request sent, awaiting response... 200 OK\n",
            "Length: 1890299770 (1.8G) [application/zip]\n",
            "Saving to: ‘LC25000.zip?dl=0’\n",
            "\n",
            "LC25000.zip?dl=0    100%[===================>]   1.76G  66.4MB/s    in 26s     \n",
            "\n",
            "2020-09-03 05:30:27 (69.4 MB/s) - ‘LC25000.zip?dl=0’ saved [1890299770/1890299770]\n",
            "\n"
          ],
          "name": "stdout"
        }
      ]
    },
    {
      "cell_type": "markdown",
      "metadata": {
        "id": "UJXOWVllK6_x",
        "colab_type": "text"
      },
      "source": [
        "**Unzipping the dataset.**"
      ]
    },
    {
      "cell_type": "code",
      "metadata": {
        "id": "vwh8CVlBvABg",
        "colab_type": "code",
        "colab": {}
      },
      "source": [
        "!unzip -q LC25000.zip?dl=0"
      ],
      "execution_count": 3,
      "outputs": []
    },
    {
      "cell_type": "markdown",
      "metadata": {
        "id": "WdLjOKh5LEhK",
        "colab_type": "text"
      },
      "source": [
        "**Making directories for image processing**"
      ]
    },
    {
      "cell_type": "code",
      "metadata": {
        "id": "iQMaQLDHvLVs",
        "colab_type": "code",
        "colab": {}
      },
      "source": [
        "def make_dir():\n",
        "  src = '/content/lung_model'\n",
        "  os.mkdir(src)\n",
        "  os.mkdir(os.path.join(src,'train'))\n",
        "  os.mkdir(os.path.join(src,'val'))\n",
        "  os.mkdir(os.path.join(src,'train/lung_aca'))\n",
        "  os.mkdir(os.path.join(src,'train/lung_n'))\n",
        "  os.mkdir(os.path.join(src,'train/lung_scc'))\n",
        "  os.mkdir(os.path.join(src,'val/lung_aca'))\n",
        "  os.mkdir(os.path.join(src,'val/lung_n'))\n",
        "  os.mkdir(os.path.join(src,'val/lung_scc'))\n",
        "make_dir()"
      ],
      "execution_count": 4,
      "outputs": []
    },
    {
      "cell_type": "markdown",
      "metadata": {
        "id": "oLl0cVsvLLht",
        "colab_type": "text"
      },
      "source": [
        "**Function to split the dataset**"
      ]
    },
    {
      "cell_type": "code",
      "metadata": {
        "id": "KJVSQZJuw8TU",
        "colab_type": "code",
        "colab": {}
      },
      "source": [
        "def split_data(source,dest_train,dest_val,split_size):\n",
        "  train_size = int(split_size *(len(os.listdir(source))))\n",
        "  c = 0\n",
        "  for i in os.listdir(source):\n",
        "    file_path = os.path.join(source,i)\n",
        "    if(c<train_size):\n",
        "      dest_path = os.path.join(dest_train,i)\n",
        "      copyfile(file_path,os.path.join(dest_train,i))\n",
        "    else :\n",
        "      dest_path = os.path.join(dest_val,i)\n",
        "      copyfile(file_path,dest_path)\n",
        "    c+=1"
      ],
      "execution_count": null,
      "outputs": []
    },
    {
      "cell_type": "markdown",
      "metadata": {
        "id": "yI6Z-wVYLRjE",
        "colab_type": "text"
      },
      "source": [
        "**Splitting the dataset**"
      ]
    },
    {
      "cell_type": "code",
      "metadata": {
        "id": "aNS0jCoW2rK4",
        "colab_type": "code",
        "colab": {}
      },
      "source": [
        "def call_split_data():\n",
        "  \n",
        "  src_lung = '/content/lung_colon_image_set/lung_image_sets'\n",
        "  train_path= '/content/lung_model/train'\n",
        "  val_path = '/content/lung_model/val'\n",
        "\n",
        "  dirct = ['lung_aca','lung_n','lung_scc']\n",
        "  split_size = 0.85\n",
        "  for i in dirct:\n",
        "\n",
        "    src = os.path.join(src_lung,i)\n",
        "    train = os.path.join(train_path,i)\n",
        "    val = os.path.join(val_path,i)\n",
        "\n",
        "    split_data(src,train,val,split_size)\n",
        "\n",
        "\n",
        "call_split_data()"
      ],
      "execution_count": null,
      "outputs": []
    },
    {
      "cell_type": "markdown",
      "metadata": {
        "id": "GllT9fN-LWgv",
        "colab_type": "text"
      },
      "source": [
        "**Identifying the size of directories**"
      ]
    },
    {
      "cell_type": "code",
      "metadata": {
        "id": "yMrdbXRC0FUu",
        "colab_type": "code",
        "colab": {
          "base_uri": "https://localhost:8080/",
          "height": 119
        },
        "outputId": "57a395c0-bace-404b-ac6f-5864a44fcd8f"
      },
      "source": [
        "def print_len_dir():\n",
        "\n",
        "  train_path= '/content/lung_model/train'\n",
        "  val_path = '/content/lung_model/val'\n",
        "\n",
        "  dirct = ['lung_aca','lung_n','lung_scc']\n",
        "  for i in dirct:\n",
        "    \n",
        "    train = os.path.join(train_path,i)\n",
        "    val = os.path.join(val_path,i)\n",
        "\n",
        "    print(train,len(os.listdir(train)))\n",
        "    print(val,len(os.listdir(val)))\n",
        "\n",
        "print_len_dir()"
      ],
      "execution_count": null,
      "outputs": [
        {
          "output_type": "stream",
          "text": [
            "/content/lung_model/train/lung_aca 4250\n",
            "/content/lung_model/val/lung_aca 750\n",
            "/content/lung_model/train/lung_n 4250\n",
            "/content/lung_model/val/lung_n 750\n",
            "/content/lung_model/train/lung_scc 4250\n",
            "/content/lung_model/val/lung_scc 750\n"
          ],
          "name": "stdout"
        }
      ]
    },
    {
      "cell_type": "markdown",
      "metadata": {
        "id": "R0nXGspQLcAm",
        "colab_type": "text"
      },
      "source": [
        "**Designing image data generator**"
      ]
    },
    {
      "cell_type": "code",
      "metadata": {
        "id": "og6kIqoa1XT6",
        "colab_type": "code",
        "colab": {}
      },
      "source": [
        "train_datagen = ImageDataGenerator(\n",
        "    rescale = 1./255.0,\n",
        "    horizontal_flip = True,\n",
        "    rotation_range = 30,\n",
        "    width_shift_range = 0.1,\n",
        "    height_shift_range = 0.1,\n",
        "    shear_range = 0.2,\n",
        "    zoom_range = 0.1,\n",
        "    fill_mode = 'nearest',\n",
        ")\n",
        "\n",
        "val_datagen = ImageDataGenerator(\n",
        "    rescale = 1./255.0,\n",
        "    horizontal_flip = True,\n",
        "    rotation_range = 30,\n",
        "    width_shift_range = 0.1,\n",
        "    height_shift_range = 0.1,\n",
        "    shear_range = 0.2,\n",
        "    zoom_range = 0.1,\n",
        "    fill_mode = 'nearest',\n",
        ")"
      ],
      "execution_count": null,
      "outputs": []
    },
    {
      "cell_type": "code",
      "metadata": {
        "id": "VTEWcadJB_iW",
        "colab_type": "code",
        "colab": {}
      },
      "source": [
        "target_size = (240,240)"
      ],
      "execution_count": null,
      "outputs": []
    },
    {
      "cell_type": "code",
      "metadata": {
        "id": "JodNWfck6fRK",
        "colab_type": "code",
        "colab": {
          "base_uri": "https://localhost:8080/",
          "height": 34
        },
        "outputId": "f6b06457-5741-4aa0-cb4c-e49ba7380505"
      },
      "source": [
        "train_generator = train_datagen.flow_from_directory(\n",
        "    '/content/lung_model/train',\n",
        "    target_size = target_size,\n",
        "    shuffle = True,\n",
        "    class_mode = 'categorical',\n",
        "    batch_size  = 32\n",
        ")"
      ],
      "execution_count": null,
      "outputs": [
        {
          "output_type": "stream",
          "text": [
            "Found 12750 images belonging to 3 classes.\n"
          ],
          "name": "stdout"
        }
      ]
    },
    {
      "cell_type": "code",
      "metadata": {
        "id": "Ru4skSOt6_y4",
        "colab_type": "code",
        "colab": {
          "base_uri": "https://localhost:8080/",
          "height": 34
        },
        "outputId": "5860b86d-aa85-4e8b-fe3c-d2f79133f093"
      },
      "source": [
        "val_generator = val_datagen.flow_from_directory(\n",
        "    '/content/lung_model/val',\n",
        "    target_size = target_size,\n",
        "    batch_size = 8,\n",
        "    class_mode= 'categorical',\n",
        "    shuffle = True\n",
        ")"
      ],
      "execution_count": null,
      "outputs": [
        {
          "output_type": "stream",
          "text": [
            "Found 1500 images belonging to 3 classes.\n"
          ],
          "name": "stdout"
        }
      ]
    },
    {
      "cell_type": "markdown",
      "metadata": {
        "id": "NqpsTwnKLiel",
        "colab_type": "text"
      },
      "source": [
        "**Designing the model**"
      ]
    },
    {
      "cell_type": "code",
      "metadata": {
        "id": "bJfN4S6m7jtY",
        "colab_type": "code",
        "colab": {
          "base_uri": "https://localhost:8080/",
          "height": 765
        },
        "outputId": "62af0fa7-64ec-48ec-aee4-bd556fb14ab1"
      },
      "source": [
        "model = Sequential([\n",
        "      Conv2D(64,(3,3),activation = 'relu',input_shape = (240,240,3)),\n",
        "      MaxPooling2D(2,2),\n",
        "\n",
        "      Conv2D(64,(2,2),activation = 'relu'),\n",
        "      # Conv2D(128,(3,3),activation = 'relu'),\n",
        "      MaxPooling2D(2,2),\n",
        "\n",
        "      Conv2D(64,(3,3),activation = 'relu'),\n",
        "      Conv2D(64,(1,1),activation = 'relu'),\n",
        "      MaxPooling2D(2,2),\n",
        "\n",
        "      Conv2D(128,(3,3),activation = 'relu'),\n",
        "      # Conv2D(64,(1,1),activation = 'relu'),\n",
        "      MaxPooling2D(2,2),\n",
        "\n",
        "      # Conv2D(64,(3,3),activation = 'relu'),\n",
        "      # Conv2D(64,(1,1),activation = 'relu'),\n",
        "      # MaxPooling2D(2,2),\n",
        "\n",
        "      Conv2D(64,(3,3),activation = 'relu'),\n",
        "      # Conv2D(64,(1,1),activation = 'relu'),\n",
        "      MaxPooling2D(2,2),\n",
        "\n",
        "      # Conv2D(32,(3,3),activation = 'relu'),\n",
        "      \n",
        "      # MaxPooling2D(2,2),\n",
        "      Conv2D(32,(1,1),activation = 'relu'),\n",
        "      Flatten(),\n",
        "\n",
        "      Dense(1024,activation = 'relu'),\n",
        "      Dropout(0.5),\n",
        "\n",
        "      Dense(512,activation='relu'),\n",
        "      Dropout(0.4),\n",
        "\n",
        "      Dense(3,activation='softmax')\n",
        "])\n",
        "model.summary()"
      ],
      "execution_count": null,
      "outputs": [
        {
          "output_type": "stream",
          "text": [
            "Model: \"sequential_2\"\n",
            "_________________________________________________________________\n",
            "Layer (type)                 Output Shape              Param #   \n",
            "=================================================================\n",
            "conv2d_14 (Conv2D)           (None, 238, 238, 64)      1792      \n",
            "_________________________________________________________________\n",
            "max_pooling2d_12 (MaxPooling (None, 119, 119, 64)      0         \n",
            "_________________________________________________________________\n",
            "conv2d_15 (Conv2D)           (None, 118, 118, 64)      16448     \n",
            "_________________________________________________________________\n",
            "max_pooling2d_13 (MaxPooling (None, 59, 59, 64)        0         \n",
            "_________________________________________________________________\n",
            "conv2d_16 (Conv2D)           (None, 57, 57, 64)        36928     \n",
            "_________________________________________________________________\n",
            "conv2d_17 (Conv2D)           (None, 57, 57, 64)        4160      \n",
            "_________________________________________________________________\n",
            "max_pooling2d_14 (MaxPooling (None, 28, 28, 64)        0         \n",
            "_________________________________________________________________\n",
            "conv2d_18 (Conv2D)           (None, 26, 26, 128)       73856     \n",
            "_________________________________________________________________\n",
            "max_pooling2d_15 (MaxPooling (None, 13, 13, 128)       0         \n",
            "_________________________________________________________________\n",
            "conv2d_19 (Conv2D)           (None, 11, 11, 64)        73792     \n",
            "_________________________________________________________________\n",
            "max_pooling2d_16 (MaxPooling (None, 5, 5, 64)          0         \n",
            "_________________________________________________________________\n",
            "conv2d_20 (Conv2D)           (None, 5, 5, 32)          2080      \n",
            "_________________________________________________________________\n",
            "flatten_2 (Flatten)          (None, 800)               0         \n",
            "_________________________________________________________________\n",
            "dense_6 (Dense)              (None, 1024)              820224    \n",
            "_________________________________________________________________\n",
            "dropout_4 (Dropout)          (None, 1024)              0         \n",
            "_________________________________________________________________\n",
            "dense_7 (Dense)              (None, 512)               524800    \n",
            "_________________________________________________________________\n",
            "dropout_5 (Dropout)          (None, 512)               0         \n",
            "_________________________________________________________________\n",
            "dense_8 (Dense)              (None, 3)                 1539      \n",
            "=================================================================\n",
            "Total params: 1,555,619\n",
            "Trainable params: 1,555,619\n",
            "Non-trainable params: 0\n",
            "_________________________________________________________________\n"
          ],
          "name": "stdout"
        }
      ]
    },
    {
      "cell_type": "markdown",
      "metadata": {
        "id": "FP7OXSQxLoqU",
        "colab_type": "text"
      },
      "source": [
        "**Model Compilation**"
      ]
    },
    {
      "cell_type": "code",
      "metadata": {
        "id": "b8npZHjF84Du",
        "colab_type": "code",
        "colab": {}
      },
      "source": [
        "model.compile(optimizer = 'adam',loss = 'categorical_crossentropy',metrics = ['acc'])"
      ],
      "execution_count": null,
      "outputs": []
    },
    {
      "cell_type": "code",
      "metadata": {
        "id": "Nil7OApp2C1P",
        "colab_type": "code",
        "colab": {}
      },
      "source": [
        "file_path = '/content/drive/My Drive/Model-trained/lung_cancer'\n",
        "# os.mkdir(file_path)"
      ],
      "execution_count": null,
      "outputs": []
    },
    {
      "cell_type": "markdown",
      "metadata": {
        "id": "uGVZgHMsLsFn",
        "colab_type": "text"
      },
      "source": [
        "**Checkpoint to store the model of max validation accuracy**"
      ]
    },
    {
      "cell_type": "code",
      "metadata": {
        "id": "p4CuZLf61zID",
        "colab_type": "code",
        "colab": {}
      },
      "source": [
        "from tensorflow.keras.callbacks import *\n",
        "filepath = os.path.join(file_path , \"lung_cancer-cnn-image-aug-epochs:{epoch:03d}-val_accuracy:{val_acc:.3f}.hdf5\")\n",
        "checkpoint = ModelCheckpoint(filepath, monitor='val_acc', verbose=1, save_best_only=True, mode='max')\n",
        "callbacks_list = checkpoint"
      ],
      "execution_count": null,
      "outputs": []
    },
    {
      "cell_type": "markdown",
      "metadata": {
        "id": "P9FrHS9cLxSK",
        "colab_type": "text"
      },
      "source": [
        "**Fitting the model for 10 epochs**"
      ]
    },
    {
      "cell_type": "code",
      "metadata": {
        "id": "4iNWgRoN9awQ",
        "colab_type": "code",
        "colab": {
          "base_uri": "https://localhost:8080/",
          "height": 717
        },
        "outputId": "7d268aaf-15bb-4159-a724-85225b06beaf"
      },
      "source": [
        "steps_per_epoch = len(train_generator)\n",
        "validation_steps = len(val_generator)\n",
        "history = model.fit(train_generator,epochs = 10,steps_per_epoch=steps_per_epoch,\n",
        "                    validation_data = val_generator,validation_steps = validation_steps,\n",
        "                    callbacks = [callbacks_list]\n",
        "                    )"
      ],
      "execution_count": null,
      "outputs": [
        {
          "output_type": "stream",
          "text": [
            "Epoch 1/10\n",
            "399/399 [==============================] - ETA: 0s - loss: 0.5891 - acc: 0.6478\n",
            "Epoch 00001: val_acc improved from -inf to 0.79600, saving model to /content/drive/My Drive/Model-trained/lung_cancer/lung_cancer-cnn-image-aug-epochs:001-val_accuracy:0.796.hdf5\n",
            "399/399 [==============================] - 327s 820ms/step - loss: 0.5891 - acc: 0.6478 - val_loss: 0.4479 - val_acc: 0.7960\n",
            "Epoch 2/10\n",
            "399/399 [==============================] - ETA: 0s - loss: 0.3466 - acc: 0.8526\n",
            "Epoch 00002: val_acc improved from 0.79600 to 0.88733, saving model to /content/drive/My Drive/Model-trained/lung_cancer/lung_cancer-cnn-image-aug-epochs:002-val_accuracy:0.887.hdf5\n",
            "399/399 [==============================] - 328s 823ms/step - loss: 0.3466 - acc: 0.8526 - val_loss: 0.2999 - val_acc: 0.8873\n",
            "Epoch 3/10\n",
            "399/399 [==============================] - ETA: 0s - loss: 0.2204 - acc: 0.9158\n",
            "Epoch 00003: val_acc improved from 0.88733 to 0.94200, saving model to /content/drive/My Drive/Model-trained/lung_cancer/lung_cancer-cnn-image-aug-epochs:003-val_accuracy:0.942.hdf5\n",
            "399/399 [==============================] - 326s 818ms/step - loss: 0.2204 - acc: 0.9158 - val_loss: 0.1567 - val_acc: 0.9420\n",
            "Epoch 4/10\n",
            "399/399 [==============================] - ETA: 0s - loss: 0.1921 - acc: 0.9246\n",
            "Epoch 00004: val_acc did not improve from 0.94200\n",
            "399/399 [==============================] - 326s 818ms/step - loss: 0.1921 - acc: 0.9246 - val_loss: 0.1850 - val_acc: 0.9227\n",
            "Epoch 5/10\n",
            "399/399 [==============================] - ETA: 0s - loss: 0.1775 - acc: 0.9324\n",
            "Epoch 00005: val_acc improved from 0.94200 to 0.94467, saving model to /content/drive/My Drive/Model-trained/lung_cancer/lung_cancer-cnn-image-aug-epochs:005-val_accuracy:0.945.hdf5\n",
            "399/399 [==============================] - 326s 817ms/step - loss: 0.1775 - acc: 0.9324 - val_loss: 0.1473 - val_acc: 0.9447\n",
            "Epoch 6/10\n",
            "399/399 [==============================] - ETA: 0s - loss: 0.1646 - acc: 0.9345\n",
            "Epoch 00006: val_acc improved from 0.94467 to 0.94667, saving model to /content/drive/My Drive/Model-trained/lung_cancer/lung_cancer-cnn-image-aug-epochs:006-val_accuracy:0.947.hdf5\n",
            "399/399 [==============================] - 327s 819ms/step - loss: 0.1646 - acc: 0.9345 - val_loss: 0.1572 - val_acc: 0.9467\n",
            "Epoch 7/10\n",
            "399/399 [==============================] - ETA: 0s - loss: 0.1633 - acc: 0.9369\n",
            "Epoch 00007: val_acc did not improve from 0.94667\n",
            "399/399 [==============================] - 325s 814ms/step - loss: 0.1633 - acc: 0.9369 - val_loss: 0.1433 - val_acc: 0.9413\n",
            "Epoch 8/10\n",
            "399/399 [==============================] - ETA: 0s - loss: 0.1393 - acc: 0.9461\n",
            "Epoch 00008: val_acc did not improve from 0.94667\n",
            "399/399 [==============================] - 328s 822ms/step - loss: 0.1393 - acc: 0.9461 - val_loss: 0.1892 - val_acc: 0.9280\n",
            "Epoch 9/10\n",
            "399/399 [==============================] - ETA: 0s - loss: 0.1476 - acc: 0.9418\n",
            "Epoch 00009: val_acc improved from 0.94667 to 0.95333, saving model to /content/drive/My Drive/Model-trained/lung_cancer/lung_cancer-cnn-image-aug-epochs:009-val_accuracy:0.953.hdf5\n",
            "399/399 [==============================] - 325s 814ms/step - loss: 0.1476 - acc: 0.9418 - val_loss: 0.1223 - val_acc: 0.9533\n",
            "Epoch 10/10\n",
            "399/399 [==============================] - ETA: 0s - loss: 0.1348 - acc: 0.9464\n",
            "Epoch 00010: val_acc did not improve from 0.95333\n",
            "399/399 [==============================] - 326s 818ms/step - loss: 0.1348 - acc: 0.9464 - val_loss: 0.1044 - val_acc: 0.9533\n"
          ],
          "name": "stdout"
        }
      ]
    },
    {
      "cell_type": "markdown",
      "metadata": {
        "id": "Fc5PwMnuL2gh",
        "colab_type": "text"
      },
      "source": [
        "**Saving the final model and its weight for future use**"
      ]
    },
    {
      "cell_type": "code",
      "metadata": {
        "id": "Q6d_XvLf4W7-",
        "colab_type": "code",
        "colab": {}
      },
      "source": [
        "model.save_weights(os.path.join(file_path,'final_weights.hdf5'))\n",
        "model.save(os.path.join(file_path,'model.h5'))"
      ],
      "execution_count": null,
      "outputs": []
    },
    {
      "cell_type": "markdown",
      "metadata": {
        "id": "Co6YoohTL7v5",
        "colab_type": "text"
      },
      "source": [
        "**Plotting the accuracy and loss graph**"
      ]
    },
    {
      "cell_type": "code",
      "metadata": {
        "id": "F0SNNZ7HHisu",
        "colab_type": "code",
        "colab": {}
      },
      "source": [
        "import matplotlib.pyplot as plt"
      ],
      "execution_count": null,
      "outputs": []
    },
    {
      "cell_type": "code",
      "metadata": {
        "id": "hOzWkRTeHvG5",
        "colab_type": "code",
        "colab": {
          "base_uri": "https://localhost:8080/",
          "height": 562
        },
        "outputId": "8696fd19-3c8f-4b18-c717-5884a9126bed"
      },
      "source": [
        "acc = history.history['acc']\n",
        "loss = history.history['loss']\n",
        "val_acc = history.history['val_acc']\n",
        "val_loss = history.history['val_loss']\n",
        "\n",
        "epochs = range(len(acc))\n",
        "\n",
        "plt.plot(epochs, acc, 'r', \"Training Accuracy\")\n",
        "plt.plot(epochs, val_acc, 'b', \"Validation Accuracy\")\n",
        "plt.title('Training and validation accuracy')\n",
        "plt.figure()\n",
        "\n",
        "plt.plot(epochs, loss, 'r', \"Training Loss\")\n",
        "plt.plot(epochs, val_loss, 'b', \"Validation Loss\")\n",
        "\n",
        "plt.title('Training and validation loss')"
      ],
      "execution_count": null,
      "outputs": [
        {
          "output_type": "execute_result",
          "data": {
            "text/plain": [
              "Text(0.5, 1.0, 'Training and validation loss')"
            ]
          },
          "metadata": {
            "tags": []
          },
          "execution_count": 31
        },
        {
          "output_type": "display_data",
          "data": {
            "image/png": "[encoded data removed]",
            "text/plain": [
              "<Figure size 432x288 with 1 Axes>"
            ]
          },
          "metadata": {
            "tags": [],
            "needs_background": "light"
          }
        },
        {
          "output_type": "display_data",
          "data": {
            "image/png": "[encoded data removed]",
            "text/plain": [
              "<Figure size 432x288 with 1 Axes>"
            ]
          },
          "metadata": {
            "tags": [],
            "needs_background": "light"
          }
        }
      ]
    }
  ]
}